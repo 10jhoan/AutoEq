{
 "cells": [
  {
   "cell_type": "code",
   "execution_count": 1,
   "id": "8ac596ba-3348-448f-842c-49b7174e10e2",
   "metadata": {},
   "outputs": [],
   "source": [
    "%load_ext autoreload\n",
    "%autoreload 2"
   ]
  },
  {
   "cell_type": "code",
   "execution_count": 2,
   "id": "fdf4c838-f438-4d36-a4ba-dde4f628924e",
   "metadata": {},
   "outputs": [],
   "source": [
    "import sys\n",
    "from pathlib import Path\n",
    "from time import time\n",
    "from copy import deepcopy\n",
    "import yaml\n",
    "import numpy as np\n",
    "import pandas as pd\n",
    "import matplotlib.pyplot as plt\n",
    "ROOT_PATH = Path().absolute().parent.parent\n",
    "if str(ROOT_PATH) not in sys.path:\n",
    "    sys.path.insert(1, str(ROOT_PATH))\n",
    "from frequency_response import FrequencyResponse\n",
    "from peq import PEQ\n",
    "from constants import DEFAULT_FS, PEQ_CONFIGS"
   ]
  },
  {
   "cell_type": "code",
   "execution_count": 4,
   "id": "180639c3-3afe-4bef-886e-37e8cc88c538",
   "metadata": {},
   "outputs": [],
   "source": [
    "dir_path = Path().absolute()\n",
    "config_names = [\n",
    "    ['4_PEAKING_WITH_LOW_SHELF'],\n",
    "    ['4_PEAKING_WITH_LOW_SHELF', '4_PEAKING_WITH_HIGH_SHELF'],\n",
    "    ['8_PEAKING_WITH_SHELVES'],\n",
    "    ['10_BAND_GRAPHIC_EQ'],\n",
    "]"
   ]
  },
  {
   "cell_type": "code",
   "execution_count": 5,
   "id": "52ad2a31-559d-49dd-b4c7-d24fe277dd9e",
   "metadata": {},
   "outputs": [],
   "source": [
    "def rmse(peq):\n",
    "    ix10k = np.argmin(np.abs(10000 - peq.f))\n",
    "    return np.sqrt(np.mean(np.square(peq.target[:ix10k] - peq.fr[:ix10k])))"
   ]
  },
  {
   "cell_type": "code",
   "execution_count": 7,
   "id": "7096838b-2806-4697-a5b0-195f5f7bf5e6",
   "metadata": {},
   "outputs": [],
   "source": [
    "def band_reqularization_stats(configs, max_n=None):\n",
    "    df = []\n",
    "    n = 0\n",
    "    for fp in ROOT_PATH.joinpath('results', 'oratory1990').glob('*/*/*.csv'):\n",
    "        fr = FrequencyResponse.read_from_csv(fp)\n",
    "        t = time()\n",
    "        peqs = fr.optimize_parametric_eq(configs, DEFAULT_FS, max_time=5)\n",
    "        df.append([time() - t, rmse(peqs[-1])])\n",
    "        n += 1\n",
    "        if max_n is not None and n >= max_n:\n",
    "            break\n",
    "    df = pd.DataFrame(df, columns=['Time', 'RMSE'])\n",
    "    return df.describe()"
   ]
  },
  {
   "cell_type": "markdown",
   "id": "58be9c2e-1c05-4d5d-80e3-e28a45666c45",
   "metadata": {},
   "source": [
    "## No Band Reqularization\n",
    "Comment out band penalties from filters in `PEQ._optimizer_loss()`"
   ]
  },
  {
   "cell_type": "code",
   "execution_count": 20,
   "id": "409c4f47-ff5f-4ffd-b4ea-43ff60310fc6",
   "metadata": {},
   "outputs": [
    {
     "data": {
      "text/html": [
       "<div>\n",
       "<style scoped>\n",
       "    .dataframe tbody tr th:only-of-type {\n",
       "        vertical-align: middle;\n",
       "    }\n",
       "\n",
       "    .dataframe tbody tr th {\n",
       "        vertical-align: top;\n",
       "    }\n",
       "\n",
       "    .dataframe thead th {\n",
       "        text-align: right;\n",
       "    }\n",
       "</style>\n",
       "<table border=\"1\" class=\"dataframe\">\n",
       "  <thead>\n",
       "    <tr style=\"text-align: right;\">\n",
       "      <th></th>\n",
       "      <th>Time</th>\n",
       "      <th>RMSE</th>\n",
       "    </tr>\n",
       "  </thead>\n",
       "  <tbody>\n",
       "    <tr>\n",
       "      <th>count</th>\n",
       "      <td>10.000000</td>\n",
       "      <td>10.000000</td>\n",
       "    </tr>\n",
       "    <tr>\n",
       "      <th>mean</th>\n",
       "      <td>0.109325</td>\n",
       "      <td>0.471122</td>\n",
       "    </tr>\n",
       "    <tr>\n",
       "      <th>std</th>\n",
       "      <td>0.045137</td>\n",
       "      <td>0.182414</td>\n",
       "    </tr>\n",
       "    <tr>\n",
       "      <th>min</th>\n",
       "      <td>0.048011</td>\n",
       "      <td>0.235244</td>\n",
       "    </tr>\n",
       "    <tr>\n",
       "      <th>25%</th>\n",
       "      <td>0.074270</td>\n",
       "      <td>0.362158</td>\n",
       "    </tr>\n",
       "    <tr>\n",
       "      <th>50%</th>\n",
       "      <td>0.103523</td>\n",
       "      <td>0.449119</td>\n",
       "    </tr>\n",
       "    <tr>\n",
       "      <th>75%</th>\n",
       "      <td>0.143782</td>\n",
       "      <td>0.541614</td>\n",
       "    </tr>\n",
       "    <tr>\n",
       "      <th>max</th>\n",
       "      <td>0.182041</td>\n",
       "      <td>0.895833</td>\n",
       "    </tr>\n",
       "  </tbody>\n",
       "</table>\n",
       "</div>"
      ],
      "text/plain": [
       "            Time       RMSE\n",
       "count  10.000000  10.000000\n",
       "mean    0.109325   0.471122\n",
       "std     0.045137   0.182414\n",
       "min     0.048011   0.235244\n",
       "25%     0.074270   0.362158\n",
       "50%     0.103523   0.449119\n",
       "75%     0.143782   0.541614\n",
       "max     0.182041   0.895833"
      ]
     },
     "execution_count": 20,
     "metadata": {},
     "output_type": "execute_result"
    }
   ],
   "source": [
    "band_reqularization_stats([PEQ_CONFIGS['4_PEAKING_WITH_LOW_SHELF']], max_n=10)"
   ]
  },
  {
   "cell_type": "markdown",
   "id": "20e5a952-440d-43e7-97d1-6e0283d16002",
   "metadata": {},
   "source": [
    "## Band Reqularization\n",
    "Do **NOT** comment out band penalties from filters in `PEQ._optimizer_loss()`"
   ]
  },
  {
   "cell_type": "code",
   "execution_count": 21,
   "id": "5c80504b-e9f5-47db-bce0-380b62ad7498",
   "metadata": {},
   "outputs": [
    {
     "data": {
      "text/html": [
       "<div>\n",
       "<style scoped>\n",
       "    .dataframe tbody tr th:only-of-type {\n",
       "        vertical-align: middle;\n",
       "    }\n",
       "\n",
       "    .dataframe tbody tr th {\n",
       "        vertical-align: top;\n",
       "    }\n",
       "\n",
       "    .dataframe thead th {\n",
       "        text-align: right;\n",
       "    }\n",
       "</style>\n",
       "<table border=\"1\" class=\"dataframe\">\n",
       "  <thead>\n",
       "    <tr style=\"text-align: right;\">\n",
       "      <th></th>\n",
       "      <th>Time</th>\n",
       "      <th>RMSE</th>\n",
       "    </tr>\n",
       "  </thead>\n",
       "  <tbody>\n",
       "    <tr>\n",
       "      <th>count</th>\n",
       "      <td>10.000000</td>\n",
       "      <td>10.000000</td>\n",
       "    </tr>\n",
       "    <tr>\n",
       "      <th>mean</th>\n",
       "      <td>0.140021</td>\n",
       "      <td>0.645004</td>\n",
       "    </tr>\n",
       "    <tr>\n",
       "      <th>std</th>\n",
       "      <td>0.037645</td>\n",
       "      <td>0.216923</td>\n",
       "    </tr>\n",
       "    <tr>\n",
       "      <th>min</th>\n",
       "      <td>0.075017</td>\n",
       "      <td>0.308490</td>\n",
       "    </tr>\n",
       "    <tr>\n",
       "      <th>25%</th>\n",
       "      <td>0.134280</td>\n",
       "      <td>0.443026</td>\n",
       "    </tr>\n",
       "    <tr>\n",
       "      <th>50%</th>\n",
       "      <td>0.145533</td>\n",
       "      <td>0.722022</td>\n",
       "    </tr>\n",
       "    <tr>\n",
       "      <th>75%</th>\n",
       "      <td>0.161786</td>\n",
       "      <td>0.822237</td>\n",
       "    </tr>\n",
       "    <tr>\n",
       "      <th>max</th>\n",
       "      <td>0.197572</td>\n",
       "      <td>0.902935</td>\n",
       "    </tr>\n",
       "  </tbody>\n",
       "</table>\n",
       "</div>"
      ],
      "text/plain": [
       "            Time       RMSE\n",
       "count  10.000000  10.000000\n",
       "mean    0.140021   0.645004\n",
       "std     0.037645   0.216923\n",
       "min     0.075017   0.308490\n",
       "25%     0.134280   0.443026\n",
       "50%     0.145533   0.722022\n",
       "75%     0.161786   0.822237\n",
       "max     0.197572   0.902935"
      ]
     },
     "execution_count": 21,
     "metadata": {},
     "output_type": "execute_result"
    }
   ],
   "source": [
    "band_reqularization_stats([PEQ_CONFIGS['4_PEAKING_WITH_LOW_SHELF']], max_n=10)"
   ]
  },
  {
   "cell_type": "code",
   "execution_count": 22,
   "id": "6cbc9362-165b-4f5e-8ade-a160d5b5a06b",
   "metadata": {},
   "outputs": [
    {
     "data": {
      "text/html": [
       "<div>\n",
       "<style scoped>\n",
       "    .dataframe tbody tr th:only-of-type {\n",
       "        vertical-align: middle;\n",
       "    }\n",
       "\n",
       "    .dataframe tbody tr th {\n",
       "        vertical-align: top;\n",
       "    }\n",
       "\n",
       "    .dataframe thead th {\n",
       "        text-align: right;\n",
       "    }\n",
       "</style>\n",
       "<table border=\"1\" class=\"dataframe\">\n",
       "  <thead>\n",
       "    <tr style=\"text-align: right;\">\n",
       "      <th></th>\n",
       "      <th>Time</th>\n",
       "      <th>RMSE</th>\n",
       "    </tr>\n",
       "  </thead>\n",
       "  <tbody>\n",
       "    <tr>\n",
       "      <th>count</th>\n",
       "      <td>10.000000</td>\n",
       "      <td>10.000000</td>\n",
       "    </tr>\n",
       "    <tr>\n",
       "      <th>mean</th>\n",
       "      <td>0.503678</td>\n",
       "      <td>0.645004</td>\n",
       "    </tr>\n",
       "    <tr>\n",
       "      <th>std</th>\n",
       "      <td>0.138125</td>\n",
       "      <td>0.216923</td>\n",
       "    </tr>\n",
       "    <tr>\n",
       "      <th>min</th>\n",
       "      <td>0.265059</td>\n",
       "      <td>0.308490</td>\n",
       "    </tr>\n",
       "    <tr>\n",
       "      <th>25%</th>\n",
       "      <td>0.472515</td>\n",
       "      <td>0.443026</td>\n",
       "    </tr>\n",
       "    <tr>\n",
       "      <th>50%</th>\n",
       "      <td>0.524389</td>\n",
       "      <td>0.722022</td>\n",
       "    </tr>\n",
       "    <tr>\n",
       "      <th>75%</th>\n",
       "      <td>0.582521</td>\n",
       "      <td>0.822237</td>\n",
       "    </tr>\n",
       "    <tr>\n",
       "      <th>max</th>\n",
       "      <td>0.695156</td>\n",
       "      <td>0.902935</td>\n",
       "    </tr>\n",
       "  </tbody>\n",
       "</table>\n",
       "</div>"
      ],
      "text/plain": [
       "            Time       RMSE\n",
       "count  10.000000  10.000000\n",
       "mean    0.503678   0.645004\n",
       "std     0.138125   0.216923\n",
       "min     0.265059   0.308490\n",
       "25%     0.472515   0.443026\n",
       "50%     0.524389   0.722022\n",
       "75%     0.582521   0.822237\n",
       "max     0.695156   0.902935"
      ]
     },
     "execution_count": 22,
     "metadata": {},
     "output_type": "execute_result"
    }
   ],
   "source": [
    "band_reqularization_stats([PEQ_CONFIGS['4_PEAKING_WITH_LOW_SHELF']], max_n=10)"
   ]
  },
  {
   "cell_type": "code",
   "execution_count": null,
   "id": "0abee4b0-550f-4a77-a9f3-65f2d2e6d937",
   "metadata": {},
   "outputs": [],
   "source": [
    " "
   ]
  }
 ],
 "metadata": {
  "kernelspec": {
   "display_name": "autoeq",
   "language": "python",
   "name": "autoeq"
  },
  "language_info": {
   "codemirror_mode": {
    "name": "ipython",
    "version": 3
   },
   "file_extension": ".py",
   "mimetype": "text/x-python",
   "name": "python",
   "nbconvert_exporter": "python",
   "pygments_lexer": "ipython3",
   "version": "3.10.5"
  }
 },
 "nbformat": 4,
 "nbformat_minor": 5
}
