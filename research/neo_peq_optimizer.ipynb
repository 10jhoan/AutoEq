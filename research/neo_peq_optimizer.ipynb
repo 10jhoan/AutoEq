{
 "cells": [
  {
   "cell_type": "code",
   "execution_count": null,
   "id": "06e65431-0710-493c-a500-cb410a0b7dce",
   "metadata": {},
   "outputs": [],
   "source": [
    "%load_ext autoreload\n",
    "%autoreload 2"
   ]
  },
  {
   "cell_type": "code",
   "execution_count": null,
   "id": "6b86e3f7-0dd7-43dc-95cb-635dcbc4d893",
   "metadata": {},
   "outputs": [],
   "source": [
    "from scipy.optimize import fmin_slsqp\n",
    "import numpy as np\n",
    "import matplotlib.pyplot as plt\n",
    "from time import time\n",
    "import os\n",
    "import sys\n",
    "from pathlib import Path\n",
    "ROOT_PATH = Path().absolute().parent\n",
    "if str(ROOT_PATH) not in sys.path:\n",
    "    sys.path.insert(1, str(ROOT_PATH))\n",
    "from frequency_response import FrequencyResponse\n",
    "from biquad import peaking, digital_coeffs"
   ]
  },
  {
   "cell_type": "code",
   "execution_count": null,
   "id": "eb230364-4c04-45b5-9f3f-6d6a72916656",
   "metadata": {},
   "outputs": [],
   "source": [
    "fr = FrequencyResponse.read_from_csv(ROOT_PATH.joinpath('results', 'oratory1990', 'harman_over-ear_2018', 'Audeze LCD-4', 'Audeze LCD-4.csv'))"
   ]
  },
  {
   "cell_type": "code",
   "execution_count": 150,
   "id": "3ad1d871-80ed-498a-aec0-fcf74596d23a",
   "metadata": {},
   "outputs": [],
   "source": [
    "def compare(fp, n):\n",
    "    fr = FrequencyResponse.read_from_csv(fp)\n",
    "    t = time()\n",
    "    fc, q, gain, peq_fr = fr.optimize_peq(n, 48000)\n",
    "    t = time() - t\n",
    "    fr.fixed_band_eq = peq_fr\n",
    "    fr.optimize_parametric_eq(max_filters=n)\n",
    "    ix = np.sum(fr.frequency < 10e3)\n",
    "    new_rmse = np.sqrt(np.mean(np.square(fr.equalization[:ix] - fr.fixed_band_eq[:ix])))\n",
    "    old_rmse = np.sqrt(np.mean(np.square(fr.equalization[:ix] - fr.parametric_eq[:ix])))\n",
    "    print(f'{fr.name}: RMSE {old_rmse:.2f} -> {new_rmse:.2f}  = {\"+\" if new_rmse > old_rmse else \"\"}{new_rmse - old_rmse:.2f} dB ({(new_rmse - old_rmse) / old_rmse * 100:.1f} %) @ {t*1000:.0f} ms')\n",
    "    #fr.plot_graph(fixed_band_eq_plot_kwargs={'label': 'New optimizer'}, show=True)"
   ]
  },
  {
   "cell_type": "code",
   "execution_count": null,
   "id": "b5d62435-4e88-47f7-982e-d5cfdfc99c66",
   "metadata": {},
   "outputs": [],
   "source": [
    "n = [5, 5]\n",
    "for fp in ROOT_PATH.joinpath('results', 'oratory1990').glob('*/*/*.csv'):\n",
    "    compare(fp, n)"
   ]
  },
  {
   "cell_type": "code",
   "execution_count": null,
   "id": "f242b4d1-e449-4fb8-bd78-82ab18eb4bda",
   "metadata": {},
   "outputs": [],
   "source": []
  }
 ],
 "metadata": {
  "kernelspec": {
   "display_name": "autoeq",
   "language": "python",
   "name": "autoeq"
  },
  "language_info": {
   "codemirror_mode": {
    "name": "ipython",
    "version": 3
   },
   "file_extension": ".py",
   "mimetype": "text/x-python",
   "name": "python",
   "nbconvert_exporter": "python",
   "pygments_lexer": "ipython3",
   "version": "3.10.5"
  }
 },
 "nbformat": 4,
 "nbformat_minor": 5
}
