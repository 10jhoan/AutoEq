{
 "cells": [
  {
   "cell_type": "code",
   "execution_count": 93,
   "id": "06e65431-0710-493c-a500-cb410a0b7dce",
   "metadata": {},
   "outputs": [
    {
     "name": "stdout",
     "output_type": "stream",
     "text": [
      "The autoreload extension is already loaded. To reload it, use:\n",
      "  %reload_ext autoreload\n"
     ]
    }
   ],
   "source": [
    "%load_ext autoreload\n",
    "%autoreload 2"
   ]
  },
  {
   "cell_type": "code",
   "execution_count": 133,
   "id": "6b86e3f7-0dd7-43dc-95cb-635dcbc4d893",
   "metadata": {},
   "outputs": [],
   "source": [
    "from scipy.optimize import fmin_slsqp\n",
    "import numpy as np\n",
    "import matplotlib.pyplot as plt\n",
    "from matplotlib import cm\n",
    "from time import time\n",
    "import os\n",
    "import sys\n",
    "from pathlib import Path\n",
    "ROOT_PATH = Path().absolute().parent\n",
    "if str(ROOT_PATH) not in sys.path:\n",
    "    sys.path.insert(1, str(ROOT_PATH))\n",
    "from frequency_response import FrequencyResponse\n",
    "from biquad import peaking, digital_coeffs"
   ]
  },
  {
   "cell_type": "code",
   "execution_count": 3,
   "id": "eb230364-4c04-45b5-9f3f-6d6a72916656",
   "metadata": {},
   "outputs": [],
   "source": [
    "fr = FrequencyResponse.read_from_csv(ROOT_PATH.joinpath('results', 'oratory1990', 'harman_over-ear_2018', 'Audeze LCD-4', 'Audeze LCD-4.csv'))"
   ]
  },
  {
   "cell_type": "code",
   "execution_count": 95,
   "id": "27adb6ef-31cc-4704-9789-cc5929849b56",
   "metadata": {},
   "outputs": [],
   "source": [
    "def print_filters(filters):\n",
    "    print(', '.join([f'{fc:.0f} Hz' for fc in filters[:, 0]]))\n",
    "    print(', '.join([f'{q:.2f} Q' for q in filters[:, 1]]))\n",
    "    print(', '.join([f'{gain:.1f} dB' for gain in filters[:, 2]]))\n",
    "    #for fc, q, gain in filters:\n",
    "    #    print(f'{fc:.0f} Hz, {q:.3f} Q, {gain:.1f} dB')"
   ]
  },
  {
   "cell_type": "code",
   "execution_count": 437,
   "id": "3ad1d871-80ed-498a-aec0-fcf74596d23a",
   "metadata": {},
   "outputs": [],
   "source": [
    "def compare(fp, n):\n",
    "    fr = FrequencyResponse.read_from_csv(fp)\n",
    "    old_fbeq = fr.fixed_band_eq.copy()\n",
    "    old_peq = fr.parametric_eq.copy()\n",
    "    \n",
    "    t = time()\n",
    "    #fr.optimize_parametric_eq(max_filters=n)\n",
    "    #fr.optimize_fixed_band_eq([31.25, 62.5, 125, 250, 500, 1000, 2000, 4000, 8000, 16000], [1.41] * 10, fs=48000)\n",
    "    #fr.parametric_eq = fr.fixed_band_eq.copy()\n",
    "    old_time = time() - t\n",
    "\n",
    "    t = time()\n",
    "    filters, n_filters, max_gains = fr.optimize_parametric_eq(n, fs=48000)\n",
    "    #filters, n_filters, max_gain = fr.optimize_fixed_band_eq([31.25, 62.5, 125, 250, 500, 1000, 2000, 4000, 8000, 16000], 1.41, fs=48000)\n",
    "    #fr.fixed_band_eq = fr.parametric_eq.copy()\n",
    "    new_time = time() - t\n",
    "    \n",
    "    #fr.parametric_eq = old_peq\n",
    "\n",
    "    ix = np.sum(fr.frequency < 10e3)\n",
    "    new_rmse = np.sqrt(np.mean(np.square(fr.equalization[:ix] - fr.parametric_eq[:ix])))\n",
    "    old_rmse = np.sqrt(np.mean(np.square(fr.equalization[:ix] - old_peq[:ix])))\n",
    "    print(f'{fr.name}: RMSE {old_rmse:.2f} -> {new_rmse:.2f}  = {\"+\" if new_rmse > old_rmse else \"\"}{new_rmse - old_rmse:.2f} dB ({(new_rmse - old_rmse) / old_rmse * 100:.1f} %) @ {old_time*1000:.0f} -> {new_time*1000:.0f} ms')\n",
    "    #fig, axs = plt.subplots(1, 2)\n",
    "    #fig.set_size_inches(26, 8)\n",
    "    #FrequencyResponse.init_plot(fig=fig, ax=axs[1])\n",
    "    #fr.plot_graph(fig=fig, ax=axs[0], fixed_band_eq_plot_kwargs={'label': 'New optimizer'}, show=False)\n",
    "    #for fc, q, gain in filters:\n",
    "    #    axs[1].plot(fr.frequency, digital_coeffs(fr.frequency, 48e3, *peaking(fc, q, gain, fs=48e3), reduce=True), label=f'{fc:.0f} Hz, {q:.3f} Q, {gain:.1f} dB')\n",
    "    #axs[1].legend()\n",
    "    #axs[1].set_title('Filters')\n",
    "    #plt.show()"
   ]
  },
  {
   "cell_type": "code",
   "execution_count": 439,
   "id": "b5d62435-4e88-47f7-982e-d5cfdfc99c66",
   "metadata": {},
   "outputs": [
    {
     "name": "stdout",
     "output_type": "stream",
     "text": [
      "1MORE Quad Driver: RMSE 0.42 -> 0.19  = -0.23 dB (-55.3 %) @ 0 -> 630 ms\n",
      "1MORE Single Driver: RMSE 0.33 -> 0.47  = +0.15 dB (45.2 %) @ 0 -> 457 ms\n",
      "1MORE Triple Driver LTNG: RMSE 0.52 -> 0.48  = -0.04 dB (-7.8 %) @ 0 -> 625 ms\n",
      "64 Audio A12t (m15 Apex module): RMSE 0.48 -> 0.29  = -0.19 dB (-39.3 %) @ 0 -> 636 ms\n",
      "64 Audio A12t (m20 Apex module): RMSE 0.55 -> 0.38  = -0.18 dB (-32.0 %) @ 0 -> 631 ms\n",
      "64 Audio N8: RMSE 0.35 -> 0.45  = +0.10 dB (29.5 %) @ 0 -> 423 ms\n",
      "7Hz Timeless: RMSE 0.51 -> 0.16  = -0.35 dB (-67.9 %) @ 0 -> 411 ms\n",
      "AKG K3003: RMSE 0.34 -> 0.21  = -0.13 dB (-39.2 %) @ 0 -> 484 ms\n",
      "AKG N20: RMSE 0.24 -> 0.22  = -0.02 dB (-7.6 %) @ 0 -> 577 ms\n",
      "AKG N400: RMSE 0.25 -> 0.13  = -0.13 dB (-49.8 %) @ 0 -> 513 ms\n"
     ]
    }
   ],
   "source": [
    "n = [5, 5]\n",
    "i = 1\n",
    "for fp in ROOT_PATH.joinpath('results', 'oratory1990').glob('*/*/*.csv'):\n",
    "    compare(fp, n)\n",
    "    i += 1\n",
    "    if i > 10:\n",
    "        break"
   ]
  },
  {
   "cell_type": "raw",
   "id": "fdfcac56-29e5-453e-a937-6005bba32053",
   "metadata": {},
   "source": [
    "1MORE Quad Driver: RMSE 0.42 -> 0.26  = -0.16 dB (-38.9 %) @ 0 -> 588 ms\n",
    "1MORE Single Driver: RMSE 0.33 -> 0.47  = +0.15 dB (45.2 %) @ 0 -> 441 ms\n",
    "1MORE Triple Driver LTNG: RMSE 0.52 -> 0.43  = -0.09 dB (-17.4 %) @ 0 -> 570 ms\n",
    "64 Audio A12t (m15 Apex module): RMSE 0.48 -> 0.35  = -0.13 dB (-26.7 %) @ 0 -> 481 ms\n",
    "64 Audio A12t (m20 Apex module): RMSE 0.55 -> 0.28  = -0.27 dB (-49.0 %) @ 0 -> 583 ms\n",
    "64 Audio N8: RMSE 0.35 -> 0.45  = +0.10 dB (29.0 %) @ 0 -> 408 ms\n",
    "7Hz Timeless: RMSE 0.51 -> 0.15  = -0.36 dB (-69.9 %) @ 0 -> 404 ms\n",
    "AKG K3003: RMSE 0.34 -> 0.32  = -0.02 dB (-7.1 %) @ 0 -> 482 ms\n",
    "AKG N20: RMSE 0.24 -> 0.24  = -0.00 dB (-1.7 %) @ 0 -> 556 ms\n",
    "AKG N400: RMSE 0.25 -> 0.23  = -0.03 dB (-10.5 %) @ 0 -> 397 ms"
   ]
  },
  {
   "cell_type": "code",
   "execution_count": 426,
   "id": "b28b8620-56f8-4f94-9b09-f61a2dbbe92c",
   "metadata": {},
   "outputs": [
    {
     "data": {
      "image/png": "[encoded data removed]",
      "text/plain": [
       "<Figure size 1080x576 with 1 Axes>"
      ]
     },
     "metadata": {
      "needs_background": "light"
     },
     "output_type": "display_data"
    },
    {
     "name": "stdout",
     "output_type": "stream",
     "text": [
      "0.8851201297273104 + 5.951901011156011 x**1\n"
     ]
    }
   ],
   "source": [
    "fc = 20 * 2**(np.log(20e3 / 20) / np.log(2) / 2)\n",
    "q = np.arange(0.18, 9, 0.1)\n",
    "gain = np.arange(1, 20, 0.1)\n",
    "f = FrequencyResponse.generate_frequencies()\n",
    "f_step = np.log(f[1] / f[0]) / np.log(2)\n",
    "max_d = []\n",
    "for g in gain:\n",
    "    frs = digital_coeffs(fr.frequency, 48e3, *peaking(fc, q, g, fs=48000))\n",
    "    max_d.append([(np.max(fr[1:-1] - np.roll(fr, 1)[1:-1]) / f_step) for fr in frs])\n",
    "max_d = np.array(max_d)\n",
    "q, gain = np.meshgrid(q, gain)\n",
    "\n",
    "d_threshold = 6\n",
    "qs = []\n",
    "for row in max_d:\n",
    "    ix = min(np.sum(row < d_threshold), max_d.shape[1] - 1)\n",
    "    qs.append(q[0, ix])\n",
    "qs = np.array(qs)\n",
    "    \n",
    "ix0 = np.sum(qs == 9.0)\n",
    "p = np.polynomial.Polynomial.fit(1 / qs[ix0:], gain[ix0:, 0], 1)\n",
    "p = p.convert()\n",
    "est = p(1 / qs[ix0:])\n",
    "    \n",
    "fig, ax = plt.subplots()\n",
    "fig.set_size_inches(15, 8)\n",
    "ax.plot(qs[ix0:], gain[ix0:, 0], label='Data')\n",
    "ax.plot(qs[ix0:], est, label=f'{p.coef[1]:.2f} * (1 / Q) {\"+\" if p.coef[0] >= 0 else \"-\"}{np.abs(p.coef[0]):.4f}')\n",
    "ax.grid()\n",
    "ax.set_ylabel('Gain (dB)')\n",
    "ax.set_xlabel('Q')\n",
    "ax.legend()\n",
    "ax.set_title(f'{d_threshold} dB / octave boundary')\n",
    "plt.show()\n",
    "print(p)"
   ]
  },
  {
   "cell_type": "code",
   "execution_count": 421,
   "id": "9256d341-2601-4280-939f-1a370c6b3bff",
   "metadata": {},
   "outputs": [
    {
     "data": {
      "image/png": "[encoded data removed]",
      "text/plain": [
       "<Figure size 864x576 with 1 Axes>"
      ]
     },
     "metadata": {
      "needs_background": "light"
     },
     "output_type": "display_data"
    }
   ],
   "source": [
    "x = np.arange(-0.5, 0.5, 0.01)\n",
    "fig, ax = plt.subplots()\n",
    "fig.set_size_inches(12, 8)\n",
    "plt.plot(x, 1 / (1 + np.e**(-x * 20)))\n",
    "plt.grid()"
   ]
  },
  {
   "cell_type": "code",
   "execution_count": 429,
   "id": "78d91d09-fb8c-4e68-a330-d0c8cf66ff89",
   "metadata": {},
   "outputs": [
    {
     "data": {
      "text/plain": [
       "array([[0.97483799],\n",
       "       [0.44895691],\n",
       "       [0.13315128]])"
      ]
     },
     "execution_count": 429,
     "metadata": {},
     "output_type": "execute_result"
    }
   ],
   "source": [
    "FrequencyResponse._sharpness_penalty(np.array([3, 6, 5.2]), np.array([8, 3.3, 3.5]))"
   ]
  },
  {
   "cell_type": "code",
   "execution_count": null,
   "id": "2a541bd1-4301-4ff9-9b38-a4f2ae7ebb9d",
   "metadata": {},
   "outputs": [],
   "source": []
  }
 ],
 "metadata": {
  "kernelspec": {
   "display_name": "autoeq",
   "language": "python",
   "name": "autoeq"
  },
  "language_info": {
   "codemirror_mode": {
    "name": "ipython",
    "version": 3
   },
   "file_extension": ".py",
   "mimetype": "text/x-python",
   "name": "python",
   "nbconvert_exporter": "python",
   "pygments_lexer": "ipython3",
   "version": "3.10.5"
  }
 },
 "nbformat": 4,
 "nbformat_minor": 5
}
