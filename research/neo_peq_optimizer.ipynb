{
 "cells": [
  {
   "cell_type": "code",
   "execution_count": 93,
   "id": "06e65431-0710-493c-a500-cb410a0b7dce",
   "metadata": {},
   "outputs": [
    {
     "name": "stdout",
     "output_type": "stream",
     "text": [
      "The autoreload extension is already loaded. To reload it, use:\n",
      "  %reload_ext autoreload\n"
     ]
    }
   ],
   "source": [
    "%load_ext autoreload\n",
    "%autoreload 2"
   ]
  },
  {
   "cell_type": "code",
   "execution_count": 94,
   "id": "6b86e3f7-0dd7-43dc-95cb-635dcbc4d893",
   "metadata": {},
   "outputs": [],
   "source": [
    "from scipy.optimize import fmin_slsqp\n",
    "import numpy as np\n",
    "import matplotlib.pyplot as plt\n",
    "from time import time\n",
    "import os\n",
    "import sys\n",
    "from pathlib import Path\n",
    "ROOT_PATH = Path().absolute().parent\n",
    "if str(ROOT_PATH) not in sys.path:\n",
    "    sys.path.insert(1, str(ROOT_PATH))\n",
    "from frequency_response import FrequencyResponse\n",
    "from biquad import peaking, digital_coeffs"
   ]
  },
  {
   "cell_type": "code",
   "execution_count": 3,
   "id": "eb230364-4c04-45b5-9f3f-6d6a72916656",
   "metadata": {},
   "outputs": [],
   "source": [
    "fr = FrequencyResponse.read_from_csv(ROOT_PATH.joinpath('results', 'oratory1990', 'harman_over-ear_2018', 'Audeze LCD-4', 'Audeze LCD-4.csv'))"
   ]
  },
  {
   "cell_type": "code",
   "execution_count": 95,
   "id": "27adb6ef-31cc-4704-9789-cc5929849b56",
   "metadata": {},
   "outputs": [],
   "source": [
    "def print_filters(filters):\n",
    "    print(', '.join([f'{fc:.0f} Hz' for fc in filters[:, 0]]))\n",
    "    print(', '.join([f'{q:.2f} Q' for q in filters[:, 1]]))\n",
    "    print(', '.join([f'{gain:.1f} dB' for gain in filters[:, 2]]))\n",
    "    #for fc, q, gain in filters:\n",
    "    #    print(f'{fc:.0f} Hz, {q:.3f} Q, {gain:.1f} dB')"
   ]
  },
  {
   "cell_type": "code",
   "execution_count": 115,
   "id": "3ad1d871-80ed-498a-aec0-fcf74596d23a",
   "metadata": {},
   "outputs": [],
   "source": [
    "def compare(fp, n):\n",
    "    fr = FrequencyResponse.read_from_csv(fp)\n",
    "    old_fbeq = fr.fixed_band_eq.copy()\n",
    "    old_peq = fr.parametric_eq.copy()\n",
    "    \n",
    "    t = time()\n",
    "    #fr.optimize_parametric_eq(max_filters=n)\n",
    "    #fr.optimize_fixed_band_eq([31.25, 62.5, 125, 250, 500, 1000, 2000, 4000, 8000, 16000], [1.41] * 10, fs=48000)\n",
    "    #fr.parametric_eq = fr.fixed_band_eq.copy()\n",
    "    old_time = time() - t\n",
    "\n",
    "    t = time()\n",
    "    #filters, n_filters, max_gains = fr.optimize_peq(n, fs=48000)\n",
    "    filters, n_filters, max_gain = fr.optimize_fbeq([31.25, 62.5, 125, 250, 500, 1000, 2000, 4000, 8000, 16000], 1.41, fs=48000)\n",
    "    #fr.fixed_band_eq = fr.parametric_eq.copy()\n",
    "    new_time = time() - t\n",
    "    \n",
    "    fr.parametric_eq = old_peq\n",
    "\n",
    "    ix = np.sum(fr.frequency < 10e3)\n",
    "    new_rmse = np.sqrt(np.mean(np.square(fr.equalization[:ix] - fr.fixed_band_eq[:ix])))\n",
    "    old_rmse = np.sqrt(np.mean(np.square(fr.equalization[:ix] - fr.parametric_eq[:ix])))\n",
    "    print(f'{fr.name}: RMSE {old_rmse:.2f} -> {new_rmse:.2f}  = {\"+\" if new_rmse > old_rmse else \"\"}{new_rmse - old_rmse:.2f} dB ({(new_rmse - old_rmse) / old_rmse * 100:.1f} %) @ {old_time*1000:.0f} -> {new_time*1000:.0f} ms')\n",
    "    fig, axs = plt.subplots(1, 2)\n",
    "    fig.set_size_inches(26, 8)\n",
    "    FrequencyResponse.init_plot(fig=fig, ax=axs[1])\n",
    "    fr.plot_graph(fig=fig, ax=axs[0], fixed_band_eq_plot_kwargs={'label': 'New optimizer'}, show=False)\n",
    "    for fc, q, gain in filters:\n",
    "        axs[1].plot(fr.frequency, digital_coeffs(fr.frequency, 48e3, *peaking(fc, q, gain, fs=48e3), reduce=True), label=f'{fc:.0f} Hz, {q:.3f} Q, {gain:.1f} dB')\n",
    "    axs[1].legend()\n",
    "    axs[1].set_title('Filters')\n",
    "    plt.show()"
   ]
  },
  {
   "cell_type": "code",
   "execution_count": null,
   "id": "b5d62435-4e88-47f7-982e-d5cfdfc99c66",
   "metadata": {},
   "outputs": [],
   "source": [
    "n = [5, 5]\n",
    "i = 0\n",
    "for fp in ROOT_PATH.joinpath('results', 'oratory1990').glob('*/*/*.csv'):\n",
    "    compare(fp, n)\n",
    "    i += 1\n",
    "    if i > 10:\n",
    "        break"
   ]
  },
  {
   "cell_type": "code",
   "execution_count": null,
   "id": "a89416b9-df4c-4f12-bb59-60391c287aa8",
   "metadata": {},
   "outputs": [],
   "source": []
  }
 ],
 "metadata": {
  "kernelspec": {
   "display_name": "autoeq",
   "language": "python",
   "name": "autoeq"
  },
  "language_info": {
   "codemirror_mode": {
    "name": "ipython",
    "version": 3
   },
   "file_extension": ".py",
   "mimetype": "text/x-python",
   "name": "python",
   "nbconvert_exporter": "python",
   "pygments_lexer": "ipython3",
   "version": "3.10.5"
  }
 },
 "nbformat": 4,
 "nbformat_minor": 5
}
